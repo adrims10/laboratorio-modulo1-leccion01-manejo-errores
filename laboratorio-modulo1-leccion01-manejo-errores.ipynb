{
 "cells": [
  {
   "cell_type": "markdown",
   "metadata": {},
   "source": [
    "\n",
    "<div style=\"text-align: center;\">\n",
    "  <img src=\"https://github.com/Hack-io-Data/Imagenes/blob/main/01-LogosHackio/logo_celeste@4x.png?raw=true\" alt=\"esquema\" />\n",
    "</div>\n"
   ]
  },
  {
   "cell_type": "markdown",
   "metadata": {},
   "source": [
    "# Laboratorio de Python: manejo de errores."
   ]
  },
  {
   "cell_type": "markdown",
   "metadata": {},
   "source": [
    "## Ejercicio 1: División con manejo de excepciones\n",
    "\n",
    "Escribe un programa que pida al usuario dos números e intente dividirlos. Si el usuario ingresa un valor no numérico o intenta dividir por cero, maneja esas excepciones de manera adecuada. Asegúrate de mostrar un mensaje indicando si la división fue exitosa o no.\n"
   ]
  },
  {
   "cell_type": "code",
   "execution_count": 22,
   "metadata": {},
   "outputs": [
    {
     "name": "stdout",
     "output_type": "stream",
     "text": [
      "El resultado de la division es 5.0\n"
     ]
    }
   ],
   "source": [
    "try:\n",
    "    numero1= float(input('Introduce el primer numero divisible:'))\n",
    "    numero2= float(input('Introduce el segundo numero divisble:'))\n",
    "    resultado = numero1/numero2\n",
    "except ValueError:\n",
    "    print('No esta introduciendo un numero')\n",
    "except ZeroDivisionError:\n",
    "    print('Se esta dividiendo entre 0')\n",
    "else:\n",
    "    print(f'El resultado de la division es {resultado}')"
   ]
  },
  {
   "cell_type": "markdown",
   "metadata": {},
   "source": [
    "## Ejercicio 2: Acceso a archivos\n",
    "\n",
    "Escribe un programa que intente abrir un archivo llamado \"datos.txt\". Si el archivo no existe, captura la excepción y muestra un mensaje de error. Asegúrate de cerrar el archivo correctamente en la sección `finally`.\n"
   ]
  },
  {
   "cell_type": "code",
   "execution_count": 28,
   "metadata": {},
   "outputs": [
    {
     "name": "stdout",
     "output_type": "stream",
     "text": [
      "No existe el archivo que esta intentado abrir\n",
      "No se ha podido abrir ni cerrar el archivo puesto que no existe\n"
     ]
    }
   ],
   "source": [
    "docs = 'datos.txt'\n",
    "try:\n",
    "    open(docs)\n",
    "except FileNotFoundError:\n",
    "    print('No existe el archivo que esta intentado abrir')\n",
    "finally:\n",
    "    print('No se ha podido abrir ni cerrar el archivo puesto que no existe')"
   ]
  },
  {
   "cell_type": "markdown",
   "metadata": {},
   "source": [
    "## Ejercicio 3: Conversión de cadenas a enteros\n",
    "\n",
    "Escribe un programa que pida una lista de números separados por comas y convierta cada valor a un número entero. Maneja las excepciones para valores que no sean convertibles y asegúrate de informar si la conversión fue exitosa o no.\n"
   ]
  },
  {
   "cell_type": "code",
   "execution_count": 130,
   "metadata": {},
   "outputs": [
    {
     "name": "stdout",
     "output_type": "stream",
     "text": [
      "[1, 2, 3, 4, 5, 6, 7, 8]\n",
      "<class 'list'>\n",
      "<class 'int'>\n"
     ]
    }
   ],
   "source": [
    "try:\n",
    "    cadena = input('introduce una lista de elementos separados por una coma:')\n",
    "    cadena1 = cadena.split(',')\n",
    "    numerosenteros=[]\n",
    "    for numero in cadena1:\n",
    "        numeroentero = int(numero)\n",
    "        numerosenteros.append(numeroentero)\n",
    "except ValueError:\n",
    "    pass\n",
    "        \n",
    "print(numerosenteros)\n",
    "print(type(numerosenteros))\n",
    "print(type(numerosenteros[1]))\n",
    "\n",
    "        \n"
   ]
  },
  {
   "cell_type": "markdown",
   "metadata": {},
   "source": [
    "#### Ejercicio 4: Cálculo del promedio con manejo de excepciones\n",
    "\n",
    "Escribe una función que reciba una lista de números y calcule su promedio. Si la lista está vacía, lanza una excepción personalizada y maneja el error adecuadamente.\n"
   ]
  },
  {
   "cell_type": "code",
   "execution_count": 241,
   "metadata": {},
   "outputs": [
    {
     "name": "stdout",
     "output_type": "stream",
     "text": [
      "El promedio de la lista es 52.0\n",
      "La lista esta vacia\n"
     ]
    }
   ],
   "source": [
    "\n",
    "def funcion1(listadenumeros):\n",
    "    \"\"\"defino una funcion con una lista de numeros\n",
    "\n",
    "    Args:\n",
    "        listadenumeros (int):lista de numeros\n",
    "    \"\"\"\n",
    "    try:\n",
    "        promedio = sum(listadenumeros)/len(listadenumeros)\n",
    "        print(f'El promedio de la lista es {promedio}')\n",
    "    except ZeroDivisionError:\n",
    "        print(f'La lista esta vacia')\n",
    "        return\n",
    "\n",
    "listadenumeros1 = [30,40,50,60,80]\n",
    "listadenumeros2 = []\n",
    "\n",
    "funcion1(listadenumeros1)\n",
    "funcion1(listadenumeros2)"
   ]
  },
  {
   "cell_type": "markdown",
   "metadata": {},
   "source": [
    "#### Ejercicio 5: Conversión segura de números\n",
    "\n",
    "Escribe un programa que convierta una cadena a número flotante e intente realizar una operación aritmética. Si la conversión falla, maneja la excepción y continúa con el flujo normal."
   ]
  },
  {
   "cell_type": "code",
   "execution_count": 91,
   "metadata": {},
   "outputs": [
    {
     "name": "stdout",
     "output_type": "stream",
     "text": [
      "No se puede realizar la operacion\n"
     ]
    }
   ],
   "source": [
    "try:\n",
    "    cadena =float(input('Introduce una cadena de texto:'))\n",
    "    resultado = cadena + 10\n",
    "except:\n",
    "    print('No se puede realizar la operacion')\n",
    "else:\n",
    "    print(f'El resultado de la operacion aritmetica es {resultado}')\n",
    "\n"
   ]
  },
  {
   "cell_type": "markdown",
   "metadata": {},
   "source": [
    "#### Ejercicio 6: Acceso a claves en diccionarios\n",
    "\n",
    "Escribe un programa que intente acceder a una clave específica en un diccionario. Si la clave no existe, maneja la excepción `KeyError` y muestra un mensaje indicando el problema."
   ]
  },
  {
   "cell_type": "code",
   "execution_count": 110,
   "metadata": {},
   "outputs": [
    {
     "name": "stdout",
     "output_type": "stream",
     "text": [
      "peras\n"
     ]
    }
   ],
   "source": [
    "Diccionario = {'peras':3,'manzanas':4,'kikos':5,'cerdo':7,'vacas':8}\n",
    "try:\n",
    "    clavebuscada = input('Introduce la clave que quieras acceder en el diccionario:').lower()\n",
    "    Diccionario[clavebuscada]\n",
    "except KeyError:\n",
    "    print('la clave no existe en el diccionario')\n",
    "else:\n",
    "    print(clavebuscada)"
   ]
  },
  {
   "cell_type": "markdown",
   "metadata": {},
   "source": [
    "\n",
    "#### Ejercicio 7: Verificación de entradas de usuario\n",
    "\n",
    "Escribe un programa que pida al usuario que introduzca su edad. Si el usuario ingresa un valor no numérico o un valor fuera del rango esperado (por ejemplo, menor que 0 o mayor que 120), maneja las excepciones adecuadamente."
   ]
  },
  {
   "cell_type": "code",
   "execution_count": 84,
   "metadata": {},
   "outputs": [
    {
     "name": "stdout",
     "output_type": "stream",
     "text": [
      "No ha introducido un numero.\n"
     ]
    }
   ],
   "source": [
    "try:\n",
    "    Edad= int(input('Introduce tu edad:'))\n",
    "    if Edad<0 or Edad>120:\n",
    "        print('La edad se encuentra fuera del rango')\n",
    "    else:\n",
    "        print(f'Tienes {Edad} años')\n",
    "except ValueError:\n",
    "    print('No ha introducido un numero.')"
   ]
  },
  {
   "cell_type": "markdown",
   "metadata": {},
   "source": [
    "#### Ejercicio 8: Extracción de valores de una lista\n",
    "\n",
    "Escribe una función que intente acceder a un índice específico en una lista. Si el índice está fuera del rango, maneja la excepción `IndexError` y muestra un mensaje adecuado.\n"
   ]
  },
  {
   "cell_type": "code",
   "execution_count": 197,
   "metadata": {},
   "outputs": [
    {
     "name": "stdout",
     "output_type": "stream",
     "text": [
      "El índice 8 está fuera del rango de la lista.\n",
      "El indice es 40\n",
      "El índice 10 está fuera del rango de la lista.\n"
     ]
    }
   ],
   "source": [
    "def funcionindice(lista, indice):\n",
    "    \"\"\"defino una funcion donde defino una lista y su indice\n",
    "\n",
    "    Args:\n",
    "        lista (list): lista de numero\n",
    "        indice (int): numero del indice al que queremos acceder\n",
    "    \"\"\"\n",
    "    try:\n",
    "        valor = lista[indice]\n",
    "    except IndexError:\n",
    "        print(f\"El índice {indice} está fuera del rango de la lista.\")\n",
    "    else:\n",
    "        print(f'El indice es {valor}')\n",
    "    return\n",
    "\n",
    "mi_lista = [10, 20, 30, 40, 50]\n",
    "funcionindice(mi_lista, 8)\n",
    "funcionindice(mi_lista, 3)\n",
    "funcionindice(mi_lista, 10)"
   ]
  },
  {
   "cell_type": "code",
   "execution_count": null,
   "metadata": {},
   "outputs": [],
   "source": []
  }
 ],
 "metadata": {
  "kernelspec": {
   "display_name": "contenido",
   "language": "python",
   "name": "python3"
  },
  "language_info": {
   "codemirror_mode": {
    "name": "ipython",
    "version": 3
   },
   "file_extension": ".py",
   "mimetype": "text/x-python",
   "name": "python",
   "nbconvert_exporter": "python",
   "pygments_lexer": "ipython3",
   "version": "3.12.6"
  }
 },
 "nbformat": 4,
 "nbformat_minor": 2
}
